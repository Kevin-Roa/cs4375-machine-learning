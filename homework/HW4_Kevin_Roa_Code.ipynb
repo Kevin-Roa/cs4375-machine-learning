{
 "cells": [
  {
   "cell_type": "code",
   "execution_count": 127,
   "id": "d43861e1-9fd3-437b-b3b5-c7fb3001038d",
   "metadata": {},
   "outputs": [],
   "source": [
    "from sklearn.linear_model import LogisticRegression\n",
    "import matplotlib.pyplot as plt\n",
    "from scipy.optimize import * \n",
    "from sklearn import svm\n",
    "import pylab as pl\n",
    "import numpy as np\n",
    "import json\n",
    "import math"
   ]
  },
  {
   "cell_type": "code",
   "execution_count": 128,
   "id": "68c83cbd-50a8-4c3f-9f0d-76ae2102461d",
   "metadata": {},
   "outputs": [],
   "source": [
    "def sigmoid(x):\n",
    "    # Computes the logistic sigmoid function\n",
    "    return 1 / (1 + np.exp(-x))\n",
    "\n",
    "def net_input(theta, x):\n",
    "    # Computes the weighted sum of inputs\n",
    "    return np.dot(x, theta)\n",
    "\n",
    "def probability(theta, x):\n",
    "    # Returns the probability after passing through sigmoid\n",
    "    return sigmoid(net_input(theta, x))\n",
    "\n",
    "def cost_function(theta, x, y):\n",
    "    # Computes the cost function for all the training samples\n",
    "    epsilon = 0.0000001\n",
    "    m = x.shape[0]\n",
    "    total_cost = -(1 / m) * np.sum(\n",
    "        y * np.log(probability(theta, x) + epsilon) + (1 - y) * np.log(\n",
    "            1 - probability(theta, x) + epsilon)) # we add a very small positive number \"epsilon\" to each log term to ensure that the input to this log is not zero. \n",
    "    return total_cost\n",
    "\n",
    "def gradient(theta, x, y):\n",
    "    # Computes the gradient of the cost function at the point theta\n",
    "    m = x.shape[0]\n",
    "    return (1 / m) * np.dot(x.T, sigmoid(net_input(theta,   x)) - y)\n",
    "\n",
    "def fit(x, y, theta):\n",
    "    opt_weights = fmin_tnc(func=cost_function, x0=theta,\n",
    "                  fprime=gradient,args=(x, y.flatten()))\n",
    "    return opt_weights[0]\n"
   ]
  },
  {
   "cell_type": "markdown",
   "id": "8e204078-6ef7-419d-9091-e3a1d65e5a6f",
   "metadata": {},
   "source": [
    "<h2>The following block shows how to train and visualize a logistic regression model based on a training set</h2>"
   ]
  },
  {
   "cell_type": "code",
   "execution_count": 129,
   "id": "5170fb92-6b09-4ba2-a079-8de8933ca3ba",
   "metadata": {},
   "outputs": [
    {
     "name": "stdout",
     "output_type": "stream",
     "text": [
      "X: [1, 'GPA', 'No. hrs/wk', 'GPA' * 'No. hrs/wk', 'GPA'^2, 'No. hrs/wk'^2]\n",
      " [[  1.     3.6    6.    21.6   12.96  36.  ]\n",
      " [  1.     3.5    8.    28.    12.25  64.  ]\n",
      " [  1.     3.    12.    36.     9.   144.  ]\n",
      " [  1.     3.1   11.    34.1    9.61 121.  ]\n",
      " [  1.     3.2   10.    32.    10.24 100.  ]\n",
      " [  1.     4.     5.    20.    16.    25.  ]\n",
      " [  1.     2.8    8.    22.4    7.84  64.  ]\n",
      " [  1.     2.5   12.    30.     6.25 144.  ]\n",
      " [  1.     2.5   10.    25.     6.25 100.  ]\n",
      " [  1.     1.2   25.    30.     1.44 625.  ]\n",
      " [  1.     1.3   20.    26.     1.69 400.  ]\n",
      " [  1.     2.    23.    46.     4.   529.  ]\n",
      " [  1.     3.1    2.     6.2    9.61   4.  ]\n",
      " [  1.     3.2    4.    12.8   10.24  16.  ]\n",
      " [  1.     3.3    4.    13.2   10.89  16.  ]\n",
      " [  1.     3.5    3.    10.5   12.25   9.  ]]\n",
      "\n",
      "y: [Binary Grade]\n",
      " [[1.]\n",
      " [1.]\n",
      " [1.]\n",
      " [1.]\n",
      " [1.]\n",
      " [1.]\n",
      " [1.]\n",
      " [1.]\n",
      " [1.]\n",
      " [0.]\n",
      " [0.]\n",
      " [0.]\n",
      " [0.]\n",
      " [0.]\n",
      " [0.]\n",
      " [0.]]\n",
      "\n",
      "The estimated parameters: beta =  [-13.98713669 -18.92517176 -16.98714633  14.78763474  -5.09865862\n",
      "  -0.84083248] \n",
      "\n",
      "beta (6,)\n"
     ]
    },
    {
     "name": "stderr",
     "output_type": "stream",
     "text": [
      "  NIT   NF   F                       GTG\n",
      "    0    1  6.931469805599654E-01   6.38906444E+02\n",
      "tnc: fscale = 0.0395623\n",
      "    1    6  1.458849426638431E-01   1.81051396E+01\n",
      "    2    9  1.201918557239061E-01   2.98501200E+00\n",
      "    3   14  1.157582537361540E-01   2.65627889E-01\n",
      "tnc: fscale = 1.94027\n",
      "    4   18  2.189241491098811E-02   1.65098961E-03\n",
      "    5   25  3.781357424425202E-04   7.39275203E-03\n",
      "tnc: stepmx = 1000\n",
      "    6   30  8.789916940227872E-05   7.50365749E-05\n",
      "tnc: fscale = 115.442\n",
      "    7   35  1.941197998411712E-05   5.51113309E-08\n",
      "tnc: fscale = 4259.71\n",
      "    8   41  5.980761030851786E-07   2.46021825E-11\n",
      "tnc: fscale = 201611\n",
      "    9   49  3.691720148568942E-07   3.36115189E-11\n",
      "   10   54 -9.823038242290635E-08   5.53948309E-17\n",
      "tnc: |pg| = 3.69166e-14 -> local minimum\n",
      "   10   54 -9.823038242290635E-08   5.53948309E-17\n",
      "tnc: Local minima reach (|pg| ~= 0)\n"
     ]
    },
    {
     "data": {
      "image/png": "[encoded data removed]",
      "text/plain": [
       "<Figure size 576x576 with 1 Axes>"
      ]
     },
     "metadata": {
      "needs_background": "light"
     },
     "output_type": "display_data"
    }
   ],
   "source": [
    "def add_features(X):\n",
    "    a = add_X1byX2(X)\n",
    "    a = addX1Sqr(a)\n",
    "    a = addX2Sqr(a)\n",
    "    return a\n",
    "\n",
    "def add_X1byX2(X):\n",
    "    new_feat = np.multiply(X[:,1], X[:,2])\n",
    "    new_feat = new_feat.reshape(len(X[:,1]), 1)\n",
    "    X = np.append(X, new_feat, axis=1)\n",
    "    return X\n",
    "    \n",
    "def addX1Sqr(X):\n",
    "    new_feat = np.multiply(X[:,1], X[:,1])\n",
    "    new_feat = new_feat.reshape(len(X[:,1]), 1)\n",
    "    X = np.append(X, new_feat, axis=1)\n",
    "    return X\n",
    "    \n",
    "def addX2Sqr(X):\n",
    "    new_feat = np.multiply(X[:,2], X[:,2])\n",
    "    new_feat = new_feat.reshape(len(X[:,1]), 1)\n",
    "    X = np.append(X, new_feat, axis=1)\n",
    "    return X\n",
    "\n",
    "def predict(X, beta):\n",
    "    y = np.matmul(X, beta.reshape(6, 1))\n",
    "    y[y<0] = 0\n",
    "    y[y>0] = 1\n",
    "    return y\n",
    "\n",
    "X_success  = np.array([[1, 3.6, 6], [1, 3.5, 8], [1, 3.0, 12], [1, 3.1, 11], [1, 3.2, 10], [1, 4, 5], [1, 2.8, 8], [1, 2.5, 12], [1, 2.5, 10]])\n",
    "y_success  = np.ones((X_success.shape[0], 1))\n",
    "X_failue   = np.array([[1, 1.2, 25], [1, 1.3, 20], [1, 2.0, 23], [1, 3.1, 2], [1, 3.2, 4], [1, 3.3, 4], [1, 3.5, 3]])\n",
    "y_failue   = np.zeros((X_failue.shape[0], 1))\n",
    "X          = np.concatenate((X_success, X_failue), axis=0)\n",
    "y          = np.concatenate((y_success, y_failue), axis=0)   \n",
    "\n",
    "X = add_features(X)\n",
    "\n",
    "beta_init  = np.zeros((X.shape[1], 1))\n",
    "\n",
    "print(\"X: [1, 'GPA', 'No. hrs/wk', 'GPA' * 'No. hrs/wk', 'GPA'^2, 'No. hrs/wk'^2]\\n\", X)\n",
    "print(\"\\ny: [Binary Grade]\\n\", y)\n",
    "\n",
    "# Estimate the weight parameters (beta) based on the feature matrix X and the label vector y\n",
    "beta      = fit(X, y, beta_init)\n",
    "print(\"\\nThe estimated parameters: beta = \", beta, \"\\n\")\n",
    "print(\"beta\", beta.shape)\n",
    "\n",
    "h = .01  # step size in the mesh\n",
    "\n",
    "# create a mesh to plot in\n",
    "x1_min, x1_max = X[:, 1].min() - 1, X[:, 1].max() + 1\n",
    "x2_min, x2_max = X[:, 2].min() - 1, X[:, 2].max() + 1\n",
    "\n",
    "xx1, xx2 = np.meshgrid(np.arange(x1_min, x1_max, h), np.arange(x2_min, x2_max, h))\n",
    "\n",
    "XX = np.c_[np.ones((xx1.ravel().shape[0], 1)), xx1.ravel(), xx2.ravel()] # the first column is a column of all 1s, the second column is x_1 and the third column is x_2. \n",
    "XX = add_features(XX)\n",
    "yy = predict(XX, beta)\n",
    "yy = yy.reshape(xx1.shape)\n",
    "\n",
    "f = plt.figure()\n",
    "f.set_figwidth(8)\n",
    "f.set_figheight(8)\n",
    "plt.set_cmap(pl.cm.Paired)\n",
    "plt.contourf(xx1, xx2, yy)\n",
    "plt.scatter(X_success[:,1], X_success[:,2], marker = \"o\", color = \"b\")\n",
    "plt.scatter(X_failue[:,1], X_failue[:,2], marker = \"o\", color = \"g\")\n",
    "plt.show()\n"
   ]
  },
  {
   "cell_type": "markdown",
   "id": "59b77970-5cd5-4bd6-97c3-a883f3d58b9a",
   "metadata": {},
   "source": [
    "<h2>The following block plots the testing points and based on which side each testing point is located, we can easily predict its class label. </h2>"
   ]
  },
  {
   "cell_type": "code",
   "execution_count": 131,
   "id": "a3319660-159f-478b-a6cf-1eb200025312",
   "metadata": {},
   "outputs": [
    {
     "name": "stdout",
     "output_type": "stream",
     "text": [
      "\n",
      "Predicted truth probabilities of the six testing examples: \n",
      "['1.00', '0.00', '1.00', '1.00', '1.00', '0.00']\n",
      "\n",
      "\n"
     ]
    },
    {
     "data": {
      "image/png": "[encoded data removed]",
      "text/plain": [
       "<Figure size 576x576 with 1 Axes>"
      ]
     },
     "metadata": {
      "needs_background": "light"
     },
     "output_type": "display_data"
    }
   ],
   "source": [
    "def sigmoid(x):\n",
    "    sig = 1 / (1 + math.exp(-1 * x))\n",
    "    return sig\n",
    "\n",
    "X_test  = np.array([[1, 3.6, 8], [1, 3.4, 3], [1, 3.0, 6], [1, 3.1, 13], [1, 3.6, 6], [1, 4, 3]])\n",
    "\n",
    "X_test = add_features(X_test)\n",
    "\n",
    "y_truth_probability = [sigmoid(a) for a in np.dot(X_test, beta)]\n",
    "s = [\"{0:.2f}\".format(a) for a in y_truth_probability]\n",
    "print(\"\\nPredicted truth probabilities of the six testing examples: \\n{}\\n\\n\".format(s))\n",
    "\n",
    "h = .01  # step size in the mesh\n",
    "# create a mesh to plot in\n",
    "x1_min, x1_max = X[:, 1].min() - 1, X[:, 1].max() + 1\n",
    "x2_min, x2_max = X[:, 2].min() - 1, X[:, 2].max() + 1\n",
    "\n",
    "xx1, xx2 = np.meshgrid(np.arange(x1_min, x1_max, h),\n",
    "                     np.arange(x2_min, x2_max, h))\n",
    "\n",
    "\n",
    "XX = np.c_[np.ones((xx1.ravel().shape[0], 1)), xx1.ravel(), xx2.ravel()] # the first column is a column of all 1s, the second column is x_1 and the third column is x_2. \n",
    "XX = add_features(XX)\n",
    "yy = predict(XX, beta)\n",
    "yy = yy.reshape(xx1.shape)\n",
    "\n",
    "f = plt.figure()\n",
    "f.set_figwidth(8)\n",
    "f.set_figheight(8)\n",
    "plt.set_cmap(pl.cm.Paired)\n",
    "plt.contourf(xx1, xx2, yy)\n",
    "plt.scatter(X_success[:,1], X_success[:,2], marker = \"o\", color = \"b\", label=r'Positive ($\\beta^T x > 0$)')\n",
    "plt.scatter(X_failue[:,1], X_failue[:,2], marker = \"o\", color = \"g\", label=r'Negative ($\\beta^T x < 0$)')\n",
    "plt.scatter(X_test[:,1], X_test[:,2], s=70, c= 'r', marker = \"+\", label=r'Testing exmaples')   \n",
    "plt.legend()\n",
    "plt.show()"
   ]
  }
 ],
 "metadata": {
  "kernelspec": {
   "display_name": "Python 3 (ipykernel)",
   "language": "python",
   "name": "python3"
  },
  "language_info": {
   "codemirror_mode": {
    "name": "ipython",
    "version": 3
   },
   "file_extension": ".py",
   "mimetype": "text/x-python",
   "name": "python",
   "nbconvert_exporter": "python",
   "pygments_lexer": "ipython3",
   "version": "3.9.7"
  },
  "toc": {
   "base_numbering": 1,
   "nav_menu": {},
   "number_sections": true,
   "sideBar": true,
   "skip_h1_title": false,
   "title_cell": "Table of Contents",
   "title_sidebar": "Contents",
   "toc_cell": false,
   "toc_position": {},
   "toc_section_display": true,
   "toc_window_display": false
  },
  "varInspector": {
   "cols": {
    "lenName": 16,
    "lenType": 16,
    "lenVar": 40
   },
   "kernels_config": {
    "python": {
     "delete_cmd_postfix": "",
     "delete_cmd_prefix": "del ",
     "library": "var_list.py",
     "varRefreshCmd": "print(var_dic_list())"
    },
    "r": {
     "delete_cmd_postfix": ") ",
     "delete_cmd_prefix": "rm(",
     "library": "var_list.r",
     "varRefreshCmd": "cat(var_dic_list()) "
    }
   },
   "types_to_exclude": [
    "module",
    "function",
    "builtin_function_or_method",
    "instance",
    "_Feature"
   ],
   "window_display": false
  }
 },
 "nbformat": 4,
 "nbformat_minor": 5
}
